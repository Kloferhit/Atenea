{
 "cells": [
  {
   "cell_type": "code",
   "execution_count": 1,
   "metadata": {},
   "outputs": [],
   "source": [
    "#IMPORTAR PACKAGES y LIBRARYS\n",
    "\n",
    "#Librerías útiles\n",
    "import numpy as np\n",
    "import pandas as pd\n",
    "import matplotlib.pyplot as plt\n",
    "from itertools import combinations\n",
    "from dateutil.relativedelta import relativedelta\n",
    "from tqdm.notebook import tqdm\n",
    "from pmdarima.utils import diff_inv\n",
    "from datetime import datetime, timedelta\n",
    "import itertools\n",
    "from sklearn.metrics import mean_squared_error, mean_absolute_error, mean_absolute_percentage_error, r2_score\n",
    "#otros\n",
    "import warnings\n",
    "warnings.filterwarnings(\"ignore\")\n",
    "\n",
    "#Modelos de Pruebas Estadísticas\n",
    "\n",
    "\n",
    "import statsmodels.tsa.stattools as ts\n",
    "\n",
    "#Modelos predictivos estadísticos\n",
    "from prophet import Prophet\n",
    "from prophet.plot import plot_plotly, plot_components_plotly\n",
    "from prophet.diagnostics import performance_metrics\n",
    "from prophet.diagnostics import cross_validation\n",
    "from prophet.plot import plot_cross_validation_metric\n",
    "\n",
    "\n",
    "#Configuraciones\n",
    "from IPython.core.interactiveshell import InteractiveShell\n",
    "InteractiveShell.ast_node_interactivity = \"all\""
   ]
  },
  {
   "cell_type": "code",
   "execution_count": 2,
   "metadata": {},
   "outputs": [],
   "source": [
    "#DICCIONARIOS, OBJETOS\n",
    "dic_mes = {\n",
    "        'Enero': 1,\n",
    "        'Febrero': 2,\n",
    "        'Marzo': 3,\n",
    "        'Abril':4,\n",
    "         'Mayo':5,\n",
    "         'Junio':6,\n",
    "         'Julio':7,   \n",
    "         'Agosto':8,\n",
    "         'Setiembre':9,\n",
    "         'Octubre':10,\n",
    "         'Noviembre':11,\n",
    "         'Diciembre':12\n",
    "        }\n"
   ]
  },
  {
   "cell_type": "code",
   "execution_count": 3,
   "metadata": {},
   "outputs": [],
   "source": [
    "#PREPARACIÓN_DATA\n",
    "\n",
    "df= pd.read_excel(\"C:/Users/Usuario/OneDrive - prediqtdata.com/Desktop/Renato/Python/script atenea/consolidado_moderno.xlsx\"\n",
    ",sheet_name=\"Detergentes\")\n",
    "df.replace(dic_mes, inplace=True)\n",
    "df['Quarter'] = df['MES'].apply(lambda x: 'Quarter1' if x in [1, 2, 3] else 'Quarter2' if x in [4, 5, 6] else 'Quarter3' if x in [7, 8, 9] else 'Quarter4')\n",
    "df['Month_in_Quarter'] = df['MES'].apply(lambda x: 1 if x % 3 == 1 else 2 if x % 3 == 2 else 3)\n",
    "df[\"PERIODO\"]= df[\"AÑO\"].astype(str)+\"-\"+df[\"MES\"].astype(str)\n",
    "\n",
    "\n",
    "df['PERIODO'] = pd.to_datetime(df['PERIODO']) \n",
    "df = df.rename(columns={'PERIODO': 'ds',\n",
    "                        'VENTA SELL IN': 'y'})\n",
    "\n",
    "\n",
    "cols=['PERIODO','AÑO','MES','Quarter','Month_in_Quarter','OFICINA DE VENTAS'\n",
    "      ,'VENTA SELL IN', 'VENTA SELL OUT TOTAL'\n",
    "      , 'SHARE VOLUMEN ALICORP', 'SHARE VOLUMEN MERCADO'\n",
    "      ,'SHARE % ALICORP','SHARE % MERCADO']\n",
    "\n",
    "cols_data =['ds','y'\n",
    "      #, 'VENTA SELL OUT TOTAL'\n",
    "      #, 'SHARE VOLUMEN ALICORP'\n",
    "      #,'SHARE VOLUMEN MERCADO'\n",
    "      #,'SHARE % ALICORP'\n",
    "      #,'SHARE % MERCADO'\n",
    "      ]\n",
    "\n",
    "\n",
    "df=df[cols_data]\n",
    "\n",
    "cutoffs = pd.date_range(start='2021-02-01', end='2023-06-01', freq='1MS') -timedelta(days=1)\n",
    "horizon_var = \"10 days\"\n"
   ]
  },
  {
   "cell_type": "code",
   "execution_count": 4,
   "metadata": {},
   "outputs": [
    {
     "data": {
      "text/plain": [
       "\"training_data = df\\n\\nparam_grid = {  \\n    'changepoint_prior_scale': [0.001, 0.01, 0.1, 0.5],\\n    'seasonality_prior_scale': [0.01, 0.1, 1.0, 10.0],\\n}\\n\\n# Generate all combinations of parameters\\nall_params = [dict(zip(param_grid.keys(), v)) for v in itertools.product(*param_grid.values())]\\nrmses = []  # Store the RMSEs for each params here\\n\\n# Use cross validation to evaluate all parameters\\nfor params in all_params:\\n    model = Prophet(**params).fit(df)  # Fit model with given params\\n    df_cv = cross_validation(model,horizon=horizon_var,cutoffs=cutoffs)\\n    df_p = performance_metrics(df_cv)\\n    rmses.append(df_p['rmse'].values[0])\\n\\n# Find the best parameters\\ntuning_results = pd.DataFrame(all_params)\\ntuning_results['rmse'] = rmses\\nprint(tuning_results)\""
      ]
     },
     "execution_count": 4,
     "metadata": {},
     "output_type": "execute_result"
    }
   ],
   "source": [
    "#Parameter tuning(hayando mejores parametros)\n",
    "\n",
    "training_data = df\n",
    "\n",
    "param_grid = {  \n",
    "    'changepoint_prior_scale': [0.001, 0.01, 0.1, 0.5],\n",
    "    'seasonality_prior_scale': [0.01, 0.1, 1.0, 10.0],\n",
    "}\n",
    "\n",
    "# Generate all combinations of parameters\n",
    "all_params = [dict(zip(param_grid.keys(), v)) for v in itertools.product(*param_grid.values())]\n",
    "rmses = []  # Store the RMSEs for each params here\n",
    "\n",
    "# Use cross validation to evaluate all parameters\n",
    "for params in all_params:\n",
    "    model = Prophet(**params).fit(df)  # Fit model with given params\n",
    "    df_cv = cross_validation(model,horizon=horizon_var,cutoffs=cutoffs)\n",
    "    df_p = performance_metrics(df_cv)\n",
    "    rmses.append(df_p['rmse'].values[0])\n",
    "\n",
    "# Find the best parameters\n",
    "tuning_results = pd.DataFrame(all_params)\n",
    "tuning_results['rmse'] = rmses\n",
    "print(tuning_results)"
   ]
  },
  {
   "cell_type": "code",
   "execution_count": 5,
   "metadata": {},
   "outputs": [],
   "source": [
    "#Mostrar mejores parametros\n",
    "best_params = all_params[np.argmin(rmses)]\n",
    "best_params=list(best_params.items())\n",
    "#best_params"
   ]
  },
  {
   "cell_type": "code",
   "execution_count": 6,
   "metadata": {},
   "outputs": [],
   "source": [
    "#Prophet(changepoint_prior_scale=best_params[0][1],\n",
    "#               seasonality_prior_scale=best_params[1][1])"
   ]
  },
  {
   "cell_type": "code",
   "execution_count": 7,
   "metadata": {},
   "outputs": [
    {
     "name": "stderr",
     "output_type": "stream",
     "text": [
      "10:24:57 - cmdstanpy - INFO - Chain [1] start processing\n",
      "10:24:57 - cmdstanpy - INFO - Chain [1] done processing\n"
     ]
    },
    {
     "data": {
      "application/vnd.plotly.v1+json": {
       "config": {
        "plotlyServerURL": "https://plot.ly"
       },
       "data": [
        {
         "marker": {
          "color": "black",
          "size": 4
         },
         "mode": "markers",
         "name": "Actual",
         "type": "scatter",
         "x": [
          "2019-01-01T00:00:00",
          "2019-02-01T00:00:00",
          "2019-03-01T00:00:00",
          "2019-04-01T00:00:00",
          "2019-05-01T00:00:00",
          "2019-06-01T00:00:00",
          "2019-07-01T00:00:00",
          "2019-08-01T00:00:00",
          "2019-09-01T00:00:00",
          "2019-10-01T00:00:00",
          "2019-11-01T00:00:00",
          "2019-12-01T00:00:00",
          "2020-01-01T00:00:00",
          "2020-02-01T00:00:00",
          "2020-03-01T00:00:00",
          "2020-04-01T00:00:00",
          "2020-05-01T00:00:00",
          "2020-06-01T00:00:00",
          "2020-07-01T00:00:00",
          "2020-08-01T00:00:00",
          "2020-09-01T00:00:00",
          "2020-10-01T00:00:00",
          "2020-11-01T00:00:00",
          "2020-12-01T00:00:00",
          "2021-01-01T00:00:00",
          "2021-02-01T00:00:00",
          "2021-03-01T00:00:00",
          "2021-04-01T00:00:00",
          "2021-05-01T00:00:00",
          "2021-06-01T00:00:00",
          "2021-07-01T00:00:00",
          "2021-08-01T00:00:00",
          "2021-09-01T00:00:00",
          "2021-10-01T00:00:00",
          "2021-11-01T00:00:00",
          "2021-12-01T00:00:00",
          "2022-01-01T00:00:00",
          "2022-02-01T00:00:00",
          "2022-03-01T00:00:00",
          "2022-04-01T00:00:00",
          "2022-05-01T00:00:00",
          "2022-06-01T00:00:00",
          "2022-07-01T00:00:00",
          "2022-08-01T00:00:00",
          "2022-09-01T00:00:00",
          "2022-10-01T00:00:00",
          "2022-11-01T00:00:00",
          "2022-12-01T00:00:00",
          "2023-01-01T00:00:00",
          "2023-02-01T00:00:00",
          "2023-03-01T00:00:00",
          "2023-04-01T00:00:00",
          "2023-05-01T00:00:00",
          "2023-06-01T00:00:00",
          "2023-07-01T00:00:00"
         ],
         "y": [
          2299,
          2600,
          2475,
          2097,
          2600,
          2035,
          2438,
          2169,
          2812,
          2431,
          2538,
          2509,
          2610,
          2335,
          2760,
          1387,
          1652,
          2118,
          3047,
          3140,
          2562,
          2794,
          2600,
          3053,
          3391.273604,
          1186.3975480000004,
          2759.055997,
          2285.128774,
          2634.6402399999984,
          2276.7308420000013,
          3019.3802170000004,
          2585.9310209999994,
          2760.3103619999997,
          2765.2401240000017,
          2347.5627620000005,
          2956.1323450000023,
          2493.7111489999998,
          2286.1454269999995,
          2474.1477640000003,
          2183.3453239999994,
          2515.6702840000003,
          2656.177514000001,
          2335.6122169999994,
          2205.9259019999995,
          2726.387578000002,
          2472.6802580000003,
          2441.6010279999996,
          3086.2019419999992,
          1974.3383359999996,
          2400.4329699999994,
          2661.4547339999986,
          2187.541096000001,
          2382.6331420000006,
          2683,
          2222
         ]
        },
        {
         "hoverinfo": "skip",
         "line": {
          "width": 0
         },
         "mode": "lines",
         "type": "scatter",
         "x": [
          "2019-01-01T00:00:00",
          "2019-02-01T00:00:00",
          "2019-03-01T00:00:00",
          "2019-04-01T00:00:00",
          "2019-05-01T00:00:00",
          "2019-06-01T00:00:00",
          "2019-07-01T00:00:00",
          "2019-08-01T00:00:00",
          "2019-09-01T00:00:00",
          "2019-10-01T00:00:00",
          "2019-11-01T00:00:00",
          "2019-12-01T00:00:00",
          "2020-01-01T00:00:00",
          "2020-02-01T00:00:00",
          "2020-03-01T00:00:00",
          "2020-04-01T00:00:00",
          "2020-05-01T00:00:00",
          "2020-06-01T00:00:00",
          "2020-07-01T00:00:00",
          "2020-08-01T00:00:00",
          "2020-09-01T00:00:00",
          "2020-10-01T00:00:00",
          "2020-11-01T00:00:00",
          "2020-12-01T00:00:00",
          "2021-01-01T00:00:00",
          "2021-02-01T00:00:00",
          "2021-03-01T00:00:00",
          "2021-04-01T00:00:00",
          "2021-05-01T00:00:00",
          "2021-06-01T00:00:00",
          "2021-07-01T00:00:00",
          "2021-08-01T00:00:00",
          "2021-09-01T00:00:00",
          "2021-10-01T00:00:00",
          "2021-11-01T00:00:00",
          "2021-12-01T00:00:00",
          "2022-01-01T00:00:00",
          "2022-02-01T00:00:00",
          "2022-03-01T00:00:00",
          "2022-04-01T00:00:00",
          "2022-05-01T00:00:00",
          "2022-06-01T00:00:00",
          "2022-07-01T00:00:00",
          "2022-08-01T00:00:00",
          "2022-09-01T00:00:00",
          "2022-10-01T00:00:00",
          "2022-11-01T00:00:00",
          "2022-12-01T00:00:00",
          "2023-01-01T00:00:00",
          "2023-02-01T00:00:00",
          "2023-03-01T00:00:00",
          "2023-04-01T00:00:00",
          "2023-05-01T00:00:00",
          "2023-06-01T00:00:00",
          "2023-07-01T00:00:00",
          "2023-08-01T00:00:00",
          "2023-09-01T00:00:00",
          "2023-10-01T00:00:00",
          "2023-11-01T00:00:00",
          "2023-12-01T00:00:00",
          "2024-01-01T00:00:00"
         ],
         "y": [
          2025.79826984745,
          1911.495912284267,
          2082.199221898437,
          1871.2027303378857,
          1984.371867954604,
          1974.6709910273717,
          2059.92060416614,
          2025.2054522594026,
          2055.432673654207,
          2031.1956136778144,
          1977.81759062317,
          2122.922112141481,
          2034.636298556042,
          1915.025841288865,
          2109.7745277774306,
          1862.3844041946184,
          1986.4724529955251,
          1990.8852641500725,
          2078.3094991549797,
          1996.4732378833987,
          2067.6306901673365,
          2025.381040951929,
          1984.0119001818337,
          2115.711916651276,
          2034.974983482871,
          1938.0097314884833,
          2120.1123299414658,
          1920.5395049939737,
          1985.8500484869949,
          1994.2037873308582,
          2045.4764759749476,
          2030.0283446465223,
          2040.6519024681731,
          2039.1939440770104,
          2002.5767674251263,
          2133.3293169636577,
          2066.7823902473133,
          1952.1516021852376,
          2095.337151628291,
          1901.6223983721377,
          2015.3337991513813,
          2000.0787397372574,
          2068.8165978617526,
          2062.001962041276,
          2096.4695337663484,
          2052.4943895039873,
          2027.283600515947,
          2142.2486177157853,
          2089.6339340357376,
          1959.714187014517,
          2123.320842623226,
          1898.917731193453,
          2032.8033639178725,
          2027.1023337839736,
          2068.30956961262,
          2073.6794726604976,
          2111.163038009586,
          2101.6387790458425,
          2030.6731876662059,
          2194.4391810620255,
          2078.0099859313636
         ]
        },
        {
         "fill": "tonexty",
         "fillcolor": "rgba(0, 114, 178, 0.2)",
         "line": {
          "color": "#0072B2",
          "width": 2
         },
         "mode": "lines",
         "name": "Predicted",
         "type": "scatter",
         "x": [
          "2019-01-01T00:00:00",
          "2019-02-01T00:00:00",
          "2019-03-01T00:00:00",
          "2019-04-01T00:00:00",
          "2019-05-01T00:00:00",
          "2019-06-01T00:00:00",
          "2019-07-01T00:00:00",
          "2019-08-01T00:00:00",
          "2019-09-01T00:00:00",
          "2019-10-01T00:00:00",
          "2019-11-01T00:00:00",
          "2019-12-01T00:00:00",
          "2020-01-01T00:00:00",
          "2020-02-01T00:00:00",
          "2020-03-01T00:00:00",
          "2020-04-01T00:00:00",
          "2020-05-01T00:00:00",
          "2020-06-01T00:00:00",
          "2020-07-01T00:00:00",
          "2020-08-01T00:00:00",
          "2020-09-01T00:00:00",
          "2020-10-01T00:00:00",
          "2020-11-01T00:00:00",
          "2020-12-01T00:00:00",
          "2021-01-01T00:00:00",
          "2021-02-01T00:00:00",
          "2021-03-01T00:00:00",
          "2021-04-01T00:00:00",
          "2021-05-01T00:00:00",
          "2021-06-01T00:00:00",
          "2021-07-01T00:00:00",
          "2021-08-01T00:00:00",
          "2021-09-01T00:00:00",
          "2021-10-01T00:00:00",
          "2021-11-01T00:00:00",
          "2021-12-01T00:00:00",
          "2022-01-01T00:00:00",
          "2022-02-01T00:00:00",
          "2022-03-01T00:00:00",
          "2022-04-01T00:00:00",
          "2022-05-01T00:00:00",
          "2022-06-01T00:00:00",
          "2022-07-01T00:00:00",
          "2022-08-01T00:00:00",
          "2022-09-01T00:00:00",
          "2022-10-01T00:00:00",
          "2022-11-01T00:00:00",
          "2022-12-01T00:00:00",
          "2023-01-01T00:00:00",
          "2023-02-01T00:00:00",
          "2023-03-01T00:00:00",
          "2023-04-01T00:00:00",
          "2023-05-01T00:00:00",
          "2023-06-01T00:00:00",
          "2023-07-01T00:00:00",
          "2023-08-01T00:00:00",
          "2023-09-01T00:00:00",
          "2023-10-01T00:00:00",
          "2023-11-01T00:00:00",
          "2023-12-01T00:00:00",
          "2024-01-01T00:00:00"
         ],
         "y": [
          2456.9338027173167,
          2338.1624585505233,
          2511.417327190827,
          2310.627562118714,
          2421.186021501642,
          2411.9289895429033,
          2487.856018913644,
          2445.879131788733,
          2492.047303516181,
          2459.3463552868625,
          2424.663667359295,
          2556.601210582366,
          2470.971916846224,
          2353.662236752861,
          2527.4685124678067,
          2327.184147838498,
          2434.933992012044,
          2425.9683026722364,
          2503.5259428395316,
          2462.2697395350256,
          2507.98735295296,
          2475.2265481685827,
          2437.333594324687,
          2569.9290845624223,
          2488.3924253967907,
          2366.9178455719007,
          2542.052620136863,
          2341.455648773412,
          2450.209618865574,
          2441.1406681545714,
          2518.197905285167,
          2476.656299351222,
          2522.5393829393847,
          2489.7644383535867,
          2452.921337326206,
          2585.4092381498613,
          2502.453690146975,
          2382.2932006164997,
          2556.558259859737,
          2355.792624815591,
          2465.4835412915522,
          2456.3174251997552,
          2532.8307807371634,
          2491.0487325344325,
          2537.082035951331,
          2504.327052301745,
          2468.554770162028,
          2600.8231327138965,
          2516.5024641606615,
          2397.731119995556,
          2570.985988637375,
          2370.1962235668825,
          2480.754682951703,
          2471.4976509949333,
          2547.4246803674573,
          2505.447793244417,
          2551.6159649733468,
          2518.9150167454713,
          2484.2323288194716,
          2616.169872043969,
          2530.5405783093047
         ]
        },
        {
         "fill": "tonexty",
         "fillcolor": "rgba(0, 114, 178, 0.2)",
         "hoverinfo": "skip",
         "line": {
          "width": 0
         },
         "mode": "lines",
         "type": "scatter",
         "x": [
          "2019-01-01T00:00:00",
          "2019-02-01T00:00:00",
          "2019-03-01T00:00:00",
          "2019-04-01T00:00:00",
          "2019-05-01T00:00:00",
          "2019-06-01T00:00:00",
          "2019-07-01T00:00:00",
          "2019-08-01T00:00:00",
          "2019-09-01T00:00:00",
          "2019-10-01T00:00:00",
          "2019-11-01T00:00:00",
          "2019-12-01T00:00:00",
          "2020-01-01T00:00:00",
          "2020-02-01T00:00:00",
          "2020-03-01T00:00:00",
          "2020-04-01T00:00:00",
          "2020-05-01T00:00:00",
          "2020-06-01T00:00:00",
          "2020-07-01T00:00:00",
          "2020-08-01T00:00:00",
          "2020-09-01T00:00:00",
          "2020-10-01T00:00:00",
          "2020-11-01T00:00:00",
          "2020-12-01T00:00:00",
          "2021-01-01T00:00:00",
          "2021-02-01T00:00:00",
          "2021-03-01T00:00:00",
          "2021-04-01T00:00:00",
          "2021-05-01T00:00:00",
          "2021-06-01T00:00:00",
          "2021-07-01T00:00:00",
          "2021-08-01T00:00:00",
          "2021-09-01T00:00:00",
          "2021-10-01T00:00:00",
          "2021-11-01T00:00:00",
          "2021-12-01T00:00:00",
          "2022-01-01T00:00:00",
          "2022-02-01T00:00:00",
          "2022-03-01T00:00:00",
          "2022-04-01T00:00:00",
          "2022-05-01T00:00:00",
          "2022-06-01T00:00:00",
          "2022-07-01T00:00:00",
          "2022-08-01T00:00:00",
          "2022-09-01T00:00:00",
          "2022-10-01T00:00:00",
          "2022-11-01T00:00:00",
          "2022-12-01T00:00:00",
          "2023-01-01T00:00:00",
          "2023-02-01T00:00:00",
          "2023-03-01T00:00:00",
          "2023-04-01T00:00:00",
          "2023-05-01T00:00:00",
          "2023-06-01T00:00:00",
          "2023-07-01T00:00:00",
          "2023-08-01T00:00:00",
          "2023-09-01T00:00:00",
          "2023-10-01T00:00:00",
          "2023-11-01T00:00:00",
          "2023-12-01T00:00:00",
          "2024-01-01T00:00:00"
         ],
         "y": [
          2882.9531196133394,
          2751.8232656757173,
          2946.927782995423,
          2744.733380571411,
          2849.890694783498,
          2843.6434504556596,
          2926.382728790856,
          2900.5829931721096,
          2920.697340978798,
          2946.1476505708406,
          2881.109260105482,
          2970.564927161036,
          2925.1736783158194,
          2797.4685815603675,
          2981.834287765777,
          2761.5970157803927,
          2873.6925937123788,
          2903.5016857958744,
          2925.156760838654,
          2885.109032665587,
          2957.3854788467997,
          2930.879617559596,
          2889.673703026927,
          3024.557758274602,
          2933.361448181629,
          2797.031882249056,
          3015.7058741787805,
          2810.6339574650447,
          2918.0093422765376,
          2869.1982020230753,
          2968.2825177691216,
          2912.343706854306,
          2997.7272569031816,
          2932.9388132678473,
          2893.6225134227843,
          3053.742928668018,
          2963.6057901790523,
          2819.471513441316,
          2995.934494042378,
          2789.081919265539,
          2915.359377830174,
          2875.076164386965,
          2917.089228696848,
          2922.665676606865,
          2971.727446656027,
          2993.6485029775713,
          2908.421233100453,
          3016.525199239334,
          2984.1284748740045,
          2850.408070224229,
          3051.0316774763637,
          2822.8647167588424,
          2912.0609017587562,
          2941.91656584231,
          2996.2590327626754,
          2959.539921058272,
          2970.8067740955544,
          2980.5696167535616,
          2903.47355686817,
          3045.219833037097,
          2968.2671892496223
         ]
        }
       ],
       "layout": {
        "height": 600,
        "showlegend": false,
        "template": {
         "data": {
          "bar": [
           {
            "error_x": {
             "color": "#2a3f5f"
            },
            "error_y": {
             "color": "#2a3f5f"
            },
            "marker": {
             "line": {
              "color": "#E5ECF6",
              "width": 0.5
             },
             "pattern": {
              "fillmode": "overlay",
              "size": 10,
              "solidity": 0.2
             }
            },
            "type": "bar"
           }
          ],
          "barpolar": [
           {
            "marker": {
             "line": {
              "color": "#E5ECF6",
              "width": 0.5
             },
             "pattern": {
              "fillmode": "overlay",
              "size": 10,
              "solidity": 0.2
             }
            },
            "type": "barpolar"
           }
          ],
          "carpet": [
           {
            "aaxis": {
             "endlinecolor": "#2a3f5f",
             "gridcolor": "white",
             "linecolor": "white",
             "minorgridcolor": "white",
             "startlinecolor": "#2a3f5f"
            },
            "baxis": {
             "endlinecolor": "#2a3f5f",
             "gridcolor": "white",
             "linecolor": "white",
             "minorgridcolor": "white",
             "startlinecolor": "#2a3f5f"
            },
            "type": "carpet"
           }
          ],
          "choropleth": [
           {
            "colorbar": {
             "outlinewidth": 0,
             "ticks": ""
            },
            "type": "choropleth"
           }
          ],
          "contour": [
           {
            "colorbar": {
             "outlinewidth": 0,
             "ticks": ""
            },
            "colorscale": [
             [
              0,
              "#0d0887"
             ],
             [
              0.1111111111111111,
              "#46039f"
             ],
             [
              0.2222222222222222,
              "#7201a8"
             ],
             [
              0.3333333333333333,
              "#9c179e"
             ],
             [
              0.4444444444444444,
              "#bd3786"
             ],
             [
              0.5555555555555556,
              "#d8576b"
             ],
             [
              0.6666666666666666,
              "#ed7953"
             ],
             [
              0.7777777777777778,
              "#fb9f3a"
             ],
             [
              0.8888888888888888,
              "#fdca26"
             ],
             [
              1,
              "#f0f921"
             ]
            ],
            "type": "contour"
           }
          ],
          "contourcarpet": [
           {
            "colorbar": {
             "outlinewidth": 0,
             "ticks": ""
            },
            "type": "contourcarpet"
           }
          ],
          "heatmap": [
           {
            "colorbar": {
             "outlinewidth": 0,
             "ticks": ""
            },
            "colorscale": [
             [
              0,
              "#0d0887"
             ],
             [
              0.1111111111111111,
              "#46039f"
             ],
             [
              0.2222222222222222,
              "#7201a8"
             ],
             [
              0.3333333333333333,
              "#9c179e"
             ],
             [
              0.4444444444444444,
              "#bd3786"
             ],
             [
              0.5555555555555556,
              "#d8576b"
             ],
             [
              0.6666666666666666,
              "#ed7953"
             ],
             [
              0.7777777777777778,
              "#fb9f3a"
             ],
             [
              0.8888888888888888,
              "#fdca26"
             ],
             [
              1,
              "#f0f921"
             ]
            ],
            "type": "heatmap"
           }
          ],
          "heatmapgl": [
           {
            "colorbar": {
             "outlinewidth": 0,
             "ticks": ""
            },
            "colorscale": [
             [
              0,
              "#0d0887"
             ],
             [
              0.1111111111111111,
              "#46039f"
             ],
             [
              0.2222222222222222,
              "#7201a8"
             ],
             [
              0.3333333333333333,
              "#9c179e"
             ],
             [
              0.4444444444444444,
              "#bd3786"
             ],
             [
              0.5555555555555556,
              "#d8576b"
             ],
             [
              0.6666666666666666,
              "#ed7953"
             ],
             [
              0.7777777777777778,
              "#fb9f3a"
             ],
             [
              0.8888888888888888,
              "#fdca26"
             ],
             [
              1,
              "#f0f921"
             ]
            ],
            "type": "heatmapgl"
           }
          ],
          "histogram": [
           {
            "marker": {
             "pattern": {
              "fillmode": "overlay",
              "size": 10,
              "solidity": 0.2
             }
            },
            "type": "histogram"
           }
          ],
          "histogram2d": [
           {
            "colorbar": {
             "outlinewidth": 0,
             "ticks": ""
            },
            "colorscale": [
             [
              0,
              "#0d0887"
             ],
             [
              0.1111111111111111,
              "#46039f"
             ],
             [
              0.2222222222222222,
              "#7201a8"
             ],
             [
              0.3333333333333333,
              "#9c179e"
             ],
             [
              0.4444444444444444,
              "#bd3786"
             ],
             [
              0.5555555555555556,
              "#d8576b"
             ],
             [
              0.6666666666666666,
              "#ed7953"
             ],
             [
              0.7777777777777778,
              "#fb9f3a"
             ],
             [
              0.8888888888888888,
              "#fdca26"
             ],
             [
              1,
              "#f0f921"
             ]
            ],
            "type": "histogram2d"
           }
          ],
          "histogram2dcontour": [
           {
            "colorbar": {
             "outlinewidth": 0,
             "ticks": ""
            },
            "colorscale": [
             [
              0,
              "#0d0887"
             ],
             [
              0.1111111111111111,
              "#46039f"
             ],
             [
              0.2222222222222222,
              "#7201a8"
             ],
             [
              0.3333333333333333,
              "#9c179e"
             ],
             [
              0.4444444444444444,
              "#bd3786"
             ],
             [
              0.5555555555555556,
              "#d8576b"
             ],
             [
              0.6666666666666666,
              "#ed7953"
             ],
             [
              0.7777777777777778,
              "#fb9f3a"
             ],
             [
              0.8888888888888888,
              "#fdca26"
             ],
             [
              1,
              "#f0f921"
             ]
            ],
            "type": "histogram2dcontour"
           }
          ],
          "mesh3d": [
           {
            "colorbar": {
             "outlinewidth": 0,
             "ticks": ""
            },
            "type": "mesh3d"
           }
          ],
          "parcoords": [
           {
            "line": {
             "colorbar": {
              "outlinewidth": 0,
              "ticks": ""
             }
            },
            "type": "parcoords"
           }
          ],
          "pie": [
           {
            "automargin": true,
            "type": "pie"
           }
          ],
          "scatter": [
           {
            "fillpattern": {
             "fillmode": "overlay",
             "size": 10,
             "solidity": 0.2
            },
            "type": "scatter"
           }
          ],
          "scatter3d": [
           {
            "line": {
             "colorbar": {
              "outlinewidth": 0,
              "ticks": ""
             }
            },
            "marker": {
             "colorbar": {
              "outlinewidth": 0,
              "ticks": ""
             }
            },
            "type": "scatter3d"
           }
          ],
          "scattercarpet": [
           {
            "marker": {
             "colorbar": {
              "outlinewidth": 0,
              "ticks": ""
             }
            },
            "type": "scattercarpet"
           }
          ],
          "scattergeo": [
           {
            "marker": {
             "colorbar": {
              "outlinewidth": 0,
              "ticks": ""
             }
            },
            "type": "scattergeo"
           }
          ],
          "scattergl": [
           {
            "marker": {
             "colorbar": {
              "outlinewidth": 0,
              "ticks": ""
             }
            },
            "type": "scattergl"
           }
          ],
          "scattermapbox": [
           {
            "marker": {
             "colorbar": {
              "outlinewidth": 0,
              "ticks": ""
             }
            },
            "type": "scattermapbox"
           }
          ],
          "scatterpolar": [
           {
            "marker": {
             "colorbar": {
              "outlinewidth": 0,
              "ticks": ""
             }
            },
            "type": "scatterpolar"
           }
          ],
          "scatterpolargl": [
           {
            "marker": {
             "colorbar": {
              "outlinewidth": 0,
              "ticks": ""
             }
            },
            "type": "scatterpolargl"
           }
          ],
          "scatterternary": [
           {
            "marker": {
             "colorbar": {
              "outlinewidth": 0,
              "ticks": ""
             }
            },
            "type": "scatterternary"
           }
          ],
          "surface": [
           {
            "colorbar": {
             "outlinewidth": 0,
             "ticks": ""
            },
            "colorscale": [
             [
              0,
              "#0d0887"
             ],
             [
              0.1111111111111111,
              "#46039f"
             ],
             [
              0.2222222222222222,
              "#7201a8"
             ],
             [
              0.3333333333333333,
              "#9c179e"
             ],
             [
              0.4444444444444444,
              "#bd3786"
             ],
             [
              0.5555555555555556,
              "#d8576b"
             ],
             [
              0.6666666666666666,
              "#ed7953"
             ],
             [
              0.7777777777777778,
              "#fb9f3a"
             ],
             [
              0.8888888888888888,
              "#fdca26"
             ],
             [
              1,
              "#f0f921"
             ]
            ],
            "type": "surface"
           }
          ],
          "table": [
           {
            "cells": {
             "fill": {
              "color": "#EBF0F8"
             },
             "line": {
              "color": "white"
             }
            },
            "header": {
             "fill": {
              "color": "#C8D4E3"
             },
             "line": {
              "color": "white"
             }
            },
            "type": "table"
           }
          ]
         },
         "layout": {
          "annotationdefaults": {
           "arrowcolor": "#2a3f5f",
           "arrowhead": 0,
           "arrowwidth": 1
          },
          "autotypenumbers": "strict",
          "coloraxis": {
           "colorbar": {
            "outlinewidth": 0,
            "ticks": ""
           }
          },
          "colorscale": {
           "diverging": [
            [
             0,
             "#8e0152"
            ],
            [
             0.1,
             "#c51b7d"
            ],
            [
             0.2,
             "#de77ae"
            ],
            [
             0.3,
             "#f1b6da"
            ],
            [
             0.4,
             "#fde0ef"
            ],
            [
             0.5,
             "#f7f7f7"
            ],
            [
             0.6,
             "#e6f5d0"
            ],
            [
             0.7,
             "#b8e186"
            ],
            [
             0.8,
             "#7fbc41"
            ],
            [
             0.9,
             "#4d9221"
            ],
            [
             1,
             "#276419"
            ]
           ],
           "sequential": [
            [
             0,
             "#0d0887"
            ],
            [
             0.1111111111111111,
             "#46039f"
            ],
            [
             0.2222222222222222,
             "#7201a8"
            ],
            [
             0.3333333333333333,
             "#9c179e"
            ],
            [
             0.4444444444444444,
             "#bd3786"
            ],
            [
             0.5555555555555556,
             "#d8576b"
            ],
            [
             0.6666666666666666,
             "#ed7953"
            ],
            [
             0.7777777777777778,
             "#fb9f3a"
            ],
            [
             0.8888888888888888,
             "#fdca26"
            ],
            [
             1,
             "#f0f921"
            ]
           ],
           "sequentialminus": [
            [
             0,
             "#0d0887"
            ],
            [
             0.1111111111111111,
             "#46039f"
            ],
            [
             0.2222222222222222,
             "#7201a8"
            ],
            [
             0.3333333333333333,
             "#9c179e"
            ],
            [
             0.4444444444444444,
             "#bd3786"
            ],
            [
             0.5555555555555556,
             "#d8576b"
            ],
            [
             0.6666666666666666,
             "#ed7953"
            ],
            [
             0.7777777777777778,
             "#fb9f3a"
            ],
            [
             0.8888888888888888,
             "#fdca26"
            ],
            [
             1,
             "#f0f921"
            ]
           ]
          },
          "colorway": [
           "#636efa",
           "#EF553B",
           "#00cc96",
           "#ab63fa",
           "#FFA15A",
           "#19d3f3",
           "#FF6692",
           "#B6E880",
           "#FF97FF",
           "#FECB52"
          ],
          "font": {
           "color": "#2a3f5f"
          },
          "geo": {
           "bgcolor": "white",
           "lakecolor": "white",
           "landcolor": "#E5ECF6",
           "showlakes": true,
           "showland": true,
           "subunitcolor": "white"
          },
          "hoverlabel": {
           "align": "left"
          },
          "hovermode": "closest",
          "mapbox": {
           "style": "light"
          },
          "paper_bgcolor": "white",
          "plot_bgcolor": "#E5ECF6",
          "polar": {
           "angularaxis": {
            "gridcolor": "white",
            "linecolor": "white",
            "ticks": ""
           },
           "bgcolor": "#E5ECF6",
           "radialaxis": {
            "gridcolor": "white",
            "linecolor": "white",
            "ticks": ""
           }
          },
          "scene": {
           "xaxis": {
            "backgroundcolor": "#E5ECF6",
            "gridcolor": "white",
            "gridwidth": 2,
            "linecolor": "white",
            "showbackground": true,
            "ticks": "",
            "zerolinecolor": "white"
           },
           "yaxis": {
            "backgroundcolor": "#E5ECF6",
            "gridcolor": "white",
            "gridwidth": 2,
            "linecolor": "white",
            "showbackground": true,
            "ticks": "",
            "zerolinecolor": "white"
           },
           "zaxis": {
            "backgroundcolor": "#E5ECF6",
            "gridcolor": "white",
            "gridwidth": 2,
            "linecolor": "white",
            "showbackground": true,
            "ticks": "",
            "zerolinecolor": "white"
           }
          },
          "shapedefaults": {
           "line": {
            "color": "#2a3f5f"
           }
          },
          "ternary": {
           "aaxis": {
            "gridcolor": "white",
            "linecolor": "white",
            "ticks": ""
           },
           "baxis": {
            "gridcolor": "white",
            "linecolor": "white",
            "ticks": ""
           },
           "bgcolor": "#E5ECF6",
           "caxis": {
            "gridcolor": "white",
            "linecolor": "white",
            "ticks": ""
           }
          },
          "title": {
           "x": 0.05
          },
          "xaxis": {
           "automargin": true,
           "gridcolor": "white",
           "linecolor": "white",
           "ticks": "",
           "title": {
            "standoff": 15
           },
           "zerolinecolor": "white",
           "zerolinewidth": 2
          },
          "yaxis": {
           "automargin": true,
           "gridcolor": "white",
           "linecolor": "white",
           "ticks": "",
           "title": {
            "standoff": 15
           },
           "zerolinecolor": "white",
           "zerolinewidth": 2
          }
         }
        },
        "width": 900,
        "xaxis": {
         "rangeselector": {
          "buttons": [
           {
            "count": 7,
            "label": "1w",
            "step": "day",
            "stepmode": "backward"
           },
           {
            "count": 1,
            "label": "1m",
            "step": "month",
            "stepmode": "backward"
           },
           {
            "count": 6,
            "label": "6m",
            "step": "month",
            "stepmode": "backward"
           },
           {
            "count": 1,
            "label": "1y",
            "step": "year",
            "stepmode": "backward"
           },
           {
            "step": "all"
           }
          ]
         },
         "rangeslider": {
          "visible": true
         },
         "title": {
          "text": "ds"
         },
         "type": "date"
        },
        "yaxis": {
         "title": {
          "text": "y"
         }
        }
       }
      }
     },
     "metadata": {},
     "output_type": "display_data"
    },
    {
     "data": {
      "application/vnd.jupyter.widget-view+json": {
       "model_id": "1aeb57d1cd5d45a3843f71fcbf7ae95c",
       "version_major": 2,
       "version_minor": 0
      },
      "text/plain": [
       "  0%|          | 0/29 [00:00<?, ?it/s]"
      ]
     },
     "metadata": {},
     "output_type": "display_data"
    },
    {
     "name": "stderr",
     "output_type": "stream",
     "text": [
      "10:24:57 - cmdstanpy - INFO - Chain [1] start processing\n",
      "10:24:57 - cmdstanpy - INFO - Chain [1] done processing\n",
      "10:24:58 - cmdstanpy - INFO - Chain [1] start processing\n",
      "10:24:58 - cmdstanpy - INFO - Chain [1] done processing\n",
      "10:24:58 - cmdstanpy - INFO - Chain [1] start processing\n",
      "10:24:58 - cmdstanpy - INFO - Chain [1] done processing\n",
      "10:24:58 - cmdstanpy - INFO - Chain [1] start processing\n",
      "10:24:58 - cmdstanpy - INFO - Chain [1] done processing\n",
      "10:24:58 - cmdstanpy - INFO - Chain [1] start processing\n",
      "10:25:01 - cmdstanpy - INFO - Chain [1] done processing\n",
      "10:25:02 - cmdstanpy - INFO - Chain [1] start processing\n",
      "10:25:02 - cmdstanpy - INFO - Chain [1] done processing\n",
      "10:25:02 - cmdstanpy - INFO - Chain [1] start processing\n",
      "10:25:02 - cmdstanpy - INFO - Chain [1] done processing\n",
      "10:25:02 - cmdstanpy - INFO - Chain [1] start processing\n",
      "10:25:20 - cmdstanpy - INFO - Chain [1] done processing\n",
      "10:25:20 - cmdstanpy - INFO - Chain [1] start processing\n",
      "10:25:27 - cmdstanpy - INFO - Chain [1] done processing\n",
      "10:25:27 - cmdstanpy - INFO - Chain [1] start processing\n",
      "10:25:37 - cmdstanpy - INFO - Chain [1] done processing\n",
      "10:25:37 - cmdstanpy - INFO - Chain [1] start processing\n",
      "10:25:37 - cmdstanpy - INFO - Chain [1] done processing\n",
      "10:25:37 - cmdstanpy - INFO - Chain [1] start processing\n",
      "10:25:37 - cmdstanpy - INFO - Chain [1] done processing\n",
      "10:25:38 - cmdstanpy - INFO - Chain [1] start processing\n",
      "10:25:39 - cmdstanpy - INFO - Chain [1] done processing\n",
      "10:25:39 - cmdstanpy - INFO - Chain [1] start processing\n",
      "10:25:39 - cmdstanpy - INFO - Chain [1] done processing\n",
      "10:25:39 - cmdstanpy - INFO - Chain [1] start processing\n",
      "10:25:39 - cmdstanpy - INFO - Chain [1] done processing\n",
      "10:25:39 - cmdstanpy - INFO - Chain [1] start processing\n",
      "10:25:45 - cmdstanpy - INFO - Chain [1] done processing\n",
      "10:25:45 - cmdstanpy - INFO - Chain [1] start processing\n",
      "10:25:46 - cmdstanpy - INFO - Chain [1] done processing\n",
      "10:25:46 - cmdstanpy - INFO - Chain [1] start processing\n",
      "10:25:47 - cmdstanpy - INFO - Chain [1] done processing\n",
      "10:25:47 - cmdstanpy - INFO - Chain [1] start processing\n",
      "10:25:47 - cmdstanpy - INFO - Chain [1] done processing\n",
      "10:25:48 - cmdstanpy - INFO - Chain [1] start processing\n",
      "10:25:53 - cmdstanpy - INFO - Chain [1] done processing\n",
      "10:25:53 - cmdstanpy - INFO - Chain [1] start processing\n",
      "10:25:53 - cmdstanpy - INFO - Chain [1] done processing\n",
      "10:25:54 - cmdstanpy - INFO - Chain [1] start processing\n",
      "10:25:54 - cmdstanpy - INFO - Chain [1] done processing\n",
      "10:25:54 - cmdstanpy - INFO - Chain [1] start processing\n",
      "10:25:54 - cmdstanpy - INFO - Chain [1] done processing\n",
      "10:25:54 - cmdstanpy - INFO - Chain [1] start processing\n",
      "10:25:54 - cmdstanpy - INFO - Chain [1] done processing\n",
      "10:25:55 - cmdstanpy - INFO - Chain [1] start processing\n",
      "10:25:55 - cmdstanpy - INFO - Chain [1] done processing\n",
      "10:25:56 - cmdstanpy - INFO - Chain [1] start processing\n",
      "10:25:56 - cmdstanpy - INFO - Chain [1] done processing\n",
      "10:25:56 - cmdstanpy - INFO - Chain [1] start processing\n",
      "10:25:56 - cmdstanpy - INFO - Chain [1] done processing\n",
      "10:25:56 - cmdstanpy - INFO - Chain [1] start processing\n",
      "10:25:56 - cmdstanpy - INFO - Chain [1] done processing\n",
      "10:25:57 - cmdstanpy - INFO - Chain [1] start processing\n",
      "10:25:57 - cmdstanpy - INFO - Chain [1] done processing\n"
     ]
    },
    {
     "data": {
      "text/html": [
       "<div>\n",
       "<style scoped>\n",
       "    .dataframe tbody tr th:only-of-type {\n",
       "        vertical-align: middle;\n",
       "    }\n",
       "\n",
       "    .dataframe tbody tr th {\n",
       "        vertical-align: top;\n",
       "    }\n",
       "\n",
       "    .dataframe thead th {\n",
       "        text-align: right;\n",
       "    }\n",
       "</style>\n",
       "<table border=\"1\" class=\"dataframe\">\n",
       "  <thead>\n",
       "    <tr style=\"text-align: right;\">\n",
       "      <th></th>\n",
       "      <th>horizon</th>\n",
       "      <th>mse</th>\n",
       "      <th>rmse</th>\n",
       "      <th>mae</th>\n",
       "      <th>mape</th>\n",
       "      <th>mdape</th>\n",
       "      <th>smape</th>\n",
       "      <th>coverage</th>\n",
       "    </tr>\n",
       "  </thead>\n",
       "  <tbody>\n",
       "    <tr>\n",
       "      <th>0</th>\n",
       "      <td>1 days</td>\n",
       "      <td>158636.637607</td>\n",
       "      <td>398.292151</td>\n",
       "      <td>271.83091</td>\n",
       "      <td>0.13534</td>\n",
       "      <td>0.095379</td>\n",
       "      <td>0.113496</td>\n",
       "      <td>0.896552</td>\n",
       "    </tr>\n",
       "  </tbody>\n",
       "</table>\n",
       "</div>"
      ],
      "text/plain": [
       "  horizon            mse        rmse        mae     mape     mdape     smape  \\\n",
       "0  1 days  158636.637607  398.292151  271.83091  0.13534  0.095379  0.113496   \n",
       "\n",
       "   coverage  \n",
       "0  0.896552  "
      ]
     },
     "execution_count": 7,
     "metadata": {},
     "output_type": "execute_result"
    }
   ],
   "source": [
    "#PRIMER MODELO CON HIPERPARAMETROS TUNNED\n",
    "\n",
    "model_1 = Prophet(changepoint_prior_scale=best_params[0][1],\n",
    "               seasonality_prior_scale=best_params[1][1]).fit(df)\n",
    "future = model_1.make_future_dataframe(periods=6,freq=\"MS\")\n",
    "forecast = model_1.predict(future)\n",
    "#fig1 = model_1.plot(forecast)\n",
    "#fig2 = model_1.plot_components(forecast)\n",
    "plot_plotly(model_1, forecast)\n",
    "#plot_components_plotly(model_1, forecast)\n",
    "df_cv = cross_validation(model_1,horizon=horizon_var,cutoffs=cutoffs)\n",
    "df_p = performance_metrics(df_cv)\n",
    "\n",
    "df_p"
   ]
  },
  {
   "cell_type": "code",
   "execution_count": 8,
   "metadata": {},
   "outputs": [
    {
     "name": "stdout",
     "output_type": "stream",
     "text": [
      "The MAE for the model is 260.11607521047716\n",
      "The MAPE for the model is 0.11851087530710423\n"
     ]
    },
    {
     "data": {
      "text/plain": [
       "anomaly\n",
       "0    53\n",
       "1     2\n",
       "Name: count, dtype: int64"
      ]
     },
     "execution_count": 8,
     "metadata": {},
     "output_type": "execute_result"
    }
   ],
   "source": [
    "#ENCONTRAR OUTLIERS\n",
    "performance = pd.merge(df, forecast[['ds', 'yhat', 'yhat_lower', 'yhat_upper']], on='ds')\n",
    "performance_MAE = mean_absolute_error(performance['y'], performance['yhat'])\n",
    "print(f'The MAE for the model is {performance_MAE}')\n",
    "\n",
    "# Check MAPE value\n",
    "performance_MAPE = mean_absolute_percentage_error(performance['y'], performance['yhat'])\n",
    "print(f'The MAPE for the model is {performance_MAPE}')\n",
    "# Create an anomaly indicator\n",
    "performance['anomaly'] = performance.apply(lambda rows: 1 if ((rows.y<rows.yhat_lower*0.75)|(rows.y>rows.yhat_upper*1.25)) else 0, axis = 1)\n",
    "\n",
    "# Check the number of anomalies\n",
    "performance['anomaly'].value_counts()\n",
    "anomalies = performance[performance['anomaly']==1].sort_values(by='ds')\n",
    "performance['y'] = performance.apply(lambda rows: np.NaN if rows.anomaly == 1 else rows.y, axis = 1)\n",
    "window_size = 3\n",
    "performance['y']=performance['y'].fillna(performance['y'].rolling(window_size+1, min_periods=1).mean())\n",
    "df_2= performance[[\"ds\",\"y\"]]\n",
    "\n"
   ]
  },
  {
   "cell_type": "code",
   "execution_count": 9,
   "metadata": {},
   "outputs": [
    {
     "name": "stderr",
     "output_type": "stream",
     "text": [
      "10:25:57 - cmdstanpy - INFO - Chain [1] start processing\n",
      "10:25:58 - cmdstanpy - INFO - Chain [1] done processing\n"
     ]
    },
    {
     "data": {
      "application/vnd.jupyter.widget-view+json": {
       "model_id": "a56b35ee715e470c85cf768c2888e8df",
       "version_major": 2,
       "version_minor": 0
      },
      "text/plain": [
       "  0%|          | 0/29 [00:00<?, ?it/s]"
      ]
     },
     "metadata": {},
     "output_type": "display_data"
    },
    {
     "name": "stderr",
     "output_type": "stream",
     "text": [
      "10:25:58 - cmdstanpy - INFO - Chain [1] start processing\n",
      "10:25:58 - cmdstanpy - INFO - Chain [1] done processing\n",
      "10:25:58 - cmdstanpy - INFO - Chain [1] start processing\n",
      "10:25:59 - cmdstanpy - INFO - Chain [1] done processing\n",
      "10:25:59 - cmdstanpy - INFO - Chain [1] start processing\n",
      "10:25:59 - cmdstanpy - INFO - Chain [1] done processing\n",
      "10:25:59 - cmdstanpy - INFO - Chain [1] start processing\n",
      "10:25:59 - cmdstanpy - INFO - Chain [1] done processing\n",
      "10:25:59 - cmdstanpy - INFO - Chain [1] start processing\n",
      "10:25:59 - cmdstanpy - INFO - Chain [1] done processing\n",
      "10:26:00 - cmdstanpy - INFO - Chain [1] start processing\n",
      "10:26:00 - cmdstanpy - INFO - Chain [1] done processing\n",
      "10:26:00 - cmdstanpy - INFO - Chain [1] start processing\n",
      "10:26:00 - cmdstanpy - INFO - Chain [1] done processing\n",
      "10:26:00 - cmdstanpy - INFO - Chain [1] start processing\n",
      "10:26:00 - cmdstanpy - INFO - Chain [1] done processing\n",
      "10:26:00 - cmdstanpy - INFO - Chain [1] start processing\n",
      "10:26:01 - cmdstanpy - INFO - Chain [1] done processing\n",
      "10:26:01 - cmdstanpy - INFO - Chain [1] start processing\n",
      "10:26:01 - cmdstanpy - INFO - Chain [1] done processing\n",
      "10:26:01 - cmdstanpy - INFO - Chain [1] start processing\n",
      "10:26:01 - cmdstanpy - INFO - Chain [1] done processing\n",
      "10:26:01 - cmdstanpy - INFO - Chain [1] start processing\n",
      "10:26:04 - cmdstanpy - INFO - Chain [1] done processing\n",
      "10:26:04 - cmdstanpy - INFO - Chain [1] start processing\n",
      "10:26:05 - cmdstanpy - INFO - Chain [1] done processing\n",
      "10:26:05 - cmdstanpy - INFO - Chain [1] start processing\n",
      "10:26:05 - cmdstanpy - INFO - Chain [1] done processing\n",
      "10:26:05 - cmdstanpy - INFO - Chain [1] start processing\n",
      "10:26:06 - cmdstanpy - INFO - Chain [1] done processing\n",
      "10:26:06 - cmdstanpy - INFO - Chain [1] start processing\n",
      "10:26:06 - cmdstanpy - INFO - Chain [1] done processing\n",
      "10:26:06 - cmdstanpy - INFO - Chain [1] start processing\n",
      "10:26:07 - cmdstanpy - INFO - Chain [1] done processing\n",
      "10:26:07 - cmdstanpy - INFO - Chain [1] start processing\n",
      "10:26:07 - cmdstanpy - INFO - Chain [1] done processing\n",
      "10:26:07 - cmdstanpy - INFO - Chain [1] start processing\n",
      "10:26:07 - cmdstanpy - INFO - Chain [1] done processing\n",
      "10:26:07 - cmdstanpy - INFO - Chain [1] start processing\n",
      "10:26:07 - cmdstanpy - INFO - Chain [1] done processing\n",
      "10:26:08 - cmdstanpy - INFO - Chain [1] start processing\n",
      "10:26:08 - cmdstanpy - INFO - Chain [1] done processing\n",
      "10:26:08 - cmdstanpy - INFO - Chain [1] start processing\n",
      "10:26:08 - cmdstanpy - INFO - Chain [1] done processing\n",
      "10:26:08 - cmdstanpy - INFO - Chain [1] start processing\n",
      "10:26:08 - cmdstanpy - INFO - Chain [1] done processing\n",
      "10:26:09 - cmdstanpy - INFO - Chain [1] start processing\n",
      "10:26:09 - cmdstanpy - INFO - Chain [1] done processing\n",
      "10:26:09 - cmdstanpy - INFO - Chain [1] start processing\n",
      "10:26:09 - cmdstanpy - INFO - Chain [1] done processing\n",
      "10:26:09 - cmdstanpy - INFO - Chain [1] start processing\n",
      "10:26:10 - cmdstanpy - INFO - Chain [1] done processing\n",
      "10:26:10 - cmdstanpy - INFO - Chain [1] start processing\n",
      "10:26:10 - cmdstanpy - INFO - Chain [1] done processing\n",
      "10:26:10 - cmdstanpy - INFO - Chain [1] start processing\n",
      "10:26:11 - cmdstanpy - INFO - Chain [1] done processing\n",
      "10:26:11 - cmdstanpy - INFO - Chain [1] start processing\n",
      "10:26:11 - cmdstanpy - INFO - Chain [1] done processing\n"
     ]
    },
    {
     "data": {
      "text/html": [
       "<div>\n",
       "<style scoped>\n",
       "    .dataframe tbody tr th:only-of-type {\n",
       "        vertical-align: middle;\n",
       "    }\n",
       "\n",
       "    .dataframe tbody tr th {\n",
       "        vertical-align: top;\n",
       "    }\n",
       "\n",
       "    .dataframe thead th {\n",
       "        text-align: right;\n",
       "    }\n",
       "</style>\n",
       "<table border=\"1\" class=\"dataframe\">\n",
       "  <thead>\n",
       "    <tr style=\"text-align: right;\">\n",
       "      <th></th>\n",
       "      <th>horizon</th>\n",
       "      <th>mse</th>\n",
       "      <th>rmse</th>\n",
       "      <th>mae</th>\n",
       "      <th>mape</th>\n",
       "      <th>mdape</th>\n",
       "      <th>smape</th>\n",
       "      <th>coverage</th>\n",
       "    </tr>\n",
       "  </thead>\n",
       "  <tbody>\n",
       "    <tr>\n",
       "      <th>0</th>\n",
       "      <td>1 days</td>\n",
       "      <td>115320.504698</td>\n",
       "      <td>339.588729</td>\n",
       "      <td>279.358852</td>\n",
       "      <td>0.117504</td>\n",
       "      <td>0.080983</td>\n",
       "      <td>0.108635</td>\n",
       "      <td>0.655172</td>\n",
       "    </tr>\n",
       "  </tbody>\n",
       "</table>\n",
       "</div>"
      ],
      "text/plain": [
       "  horizon            mse        rmse         mae      mape     mdape  \\\n",
       "0  1 days  115320.504698  339.588729  279.358852  0.117504  0.080983   \n",
       "\n",
       "      smape  coverage  \n",
       "0  0.108635  0.655172  "
      ]
     },
     "execution_count": 9,
     "metadata": {},
     "output_type": "execute_result"
    }
   ],
   "source": [
    "#MODELO SIN OUTLIERS\n",
    "model_2 = Prophet(changepoint_prior_scale=0.001,\n",
    "                seasonality_prior_scale=0.01).fit(df_2)  \n",
    "future = model_2.make_future_dataframe(periods=6,freq=\"MS\")\n",
    "forecast = model_2.predict(future)\n",
    "#fig1 = model_2.plot(forecast)\n",
    "#fig2 = model_2.plot_components(forecast)\n",
    "#plot_plotly(model_2, forecast)\n",
    "\n",
    "df_cv = cross_validation(model_2,horizon=horizon_var,cutoffs=cutoffs)\n",
    "df_p = performance_metrics(df_cv)\n",
    "df_p"
   ]
  }
 ],
 "metadata": {
  "kernelspec": {
   "display_name": "Python 3",
   "language": "python",
   "name": "python3"
  },
  "language_info": {
   "codemirror_mode": {
    "name": "ipython",
    "version": 3
   },
   "file_extension": ".py",
   "mimetype": "text/x-python",
   "name": "python",
   "nbconvert_exporter": "python",
   "pygments_lexer": "ipython3",
   "version": "3.11.5"
  },
  "orig_nbformat": 4
 },
 "nbformat": 4,
 "nbformat_minor": 2
}
